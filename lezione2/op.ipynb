{
 "cells": [
  {
   "cell_type": "code",
   "execution_count": 11,
   "metadata": {},
   "outputs": [],
   "source": [
    "import random\n",
    "\n",
    "class Point:\n",
    "    def __init__(self, x, y):\n",
    "        self.x=x\n",
    "        self.y=y\n",
    "    def distance(self, other):\n",
    "        return ((self.x-other.x)**2+ (self.y-other.y)**2)**0.5\n",
    "    def distance_from_origin(self):\n",
    "        origin= Point(0,0)\n",
    "        return self.distance(origin)\n",
    "    def is_inside_unit_circle(self):\n",
    "        if self.distance_from_origin() <= 1:\n",
    "            return True\n",
    "        else:\n",
    "            return False\n",
    "    "
   ]
  },
  {
   "cell_type": "code",
   "execution_count": 18,
   "metadata": {},
   "outputs": [
    {
     "name": "stdout",
     "output_type": "stream",
     "text": [
      "il valore del pi greco è 3.144\n",
      "l'errore percentuale è 0.0766282161837951 %\n"
     ]
    }
   ],
   "source": [
    "import math\n",
    "points_tot=1000\n",
    "points_inside=0\n",
    "for i in range(0,points_tot):\n",
    "    x = random.uniform(-1,1)\n",
    "    y = random.uniform(-1,1)\n",
    "    p = Point(x, y)\n",
    "    is_inside = p.is_inside_unit_circle()\n",
    "    if is_inside:\n",
    "        points_inside= points_inside+1\n",
    "pi = points_inside/ points_tot*4\n",
    "error=abs(pi-math.pi)\n",
    "error_percentage= error/math.pi*100\n",
    "print(\"il valore del pi greco è\",pi)\n",
    "print(\"l'errore percentuale è\", error_percentage, \"%\")\n",
    "    \n"
   ]
  }
 ],
 "metadata": {
  "kernelspec": {
   "display_name": "Python 3",
   "language": "python",
   "name": "python3"
  },
  "language_info": {
   "codemirror_mode": {
    "name": "ipython",
    "version": 3
   },
   "file_extension": ".py",
   "mimetype": "text/x-python",
   "name": "python",
   "nbconvert_exporter": "python",
   "pygments_lexer": "ipython3",
   "version": "3.12.1"
  }
 },
 "nbformat": 4,
 "nbformat_minor": 2
}
