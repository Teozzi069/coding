{
 "cells": [
  {
   "cell_type": "code",
   "execution_count": 2,
   "metadata": {},
   "outputs": [
    {
     "name": "stdout",
     "output_type": "stream",
     "text": [
      "troppo piccolo!\n",
      "troppo piccolo!\n",
      "troppo grande!\n",
      "troppo grande!\n",
      "troppo grande!\n",
      "troppo grande!\n",
      "hai vinto con 7 tentativi!\n"
     ]
    }
   ],
   "source": [
    "import random\n",
    "n=random.randint(1,100)\n",
    "tentativi=0\n",
    "win=False\n",
    "while not win:\n",
    "    guess=int(input(\"prova a indovinare:\"))\n",
    "    tentativi=tentativi+1\n",
    "    if guess==n:\n",
    "        win=True\n",
    "        print(\"hai vinto con\",tentativi,\"tentativi!\")\n",
    "    elif guess < n:\n",
    "        print(\"troppo piccolo!\")\n",
    "    else:\n",
    "        print(\"troppo grande!\")\n"
   ]
  },
  {
   "cell_type": "code",
   "execution_count": 7,
   "metadata": {},
   "outputs": [
    {
     "ename": "TypeError",
     "evalue": "Rectangle() takes no arguments",
     "output_type": "error",
     "traceback": [
      "\u001b[0;31m---------------------------------------------------------------------------\u001b[0m",
      "\u001b[0;31mTypeError\u001b[0m                                 Traceback (most recent call last)",
      "Cell \u001b[0;32mIn[7], line 13\u001b[0m\n\u001b[1;32m     11\u001b[0m             \u001b[38;5;28;01mreturn\u001b[39;00m \u001b[38;5;28;01mTrue\u001b[39;00m\n\u001b[1;32m     12\u001b[0m         \u001b[38;5;28;01mreturn\u001b[39;00m \u001b[38;5;28;01mFalse\u001b[39;00m\n\u001b[0;32m---> 13\u001b[0m rect2\u001b[38;5;241m=\u001b[39m\u001b[43mRectangle\u001b[49m\u001b[43m(\u001b[49m\u001b[38;5;241;43m3\u001b[39;49m\u001b[43m,\u001b[49m\u001b[38;5;241;43m4\u001b[39;49m\u001b[43m)\u001b[49m\n\u001b[1;32m     14\u001b[0m rect1\u001b[38;5;241m=\u001b[39mRectangle(\u001b[38;5;241m2\u001b[39m,\u001b[38;5;241m3\u001b[39m)\n\u001b[1;32m     15\u001b[0m \u001b[38;5;28mprint\u001b[39m(rect1\u001b[38;5;241m.\u001b[39mis_equivalent(rect2))\n",
      "\u001b[0;31mTypeError\u001b[0m: Rectangle() takes no arguments"
     ]
    }
   ],
   "source": [
    "class Rectangle:\n",
    "    def _init_(self,b,h):\n",
    "        self.b=b \n",
    "        self.h=h\n",
    "    def perimeter(self):\n",
    "        return 2*(self.b+self.h)\n",
    "    def area(self):\n",
    "        return self.b*self.h\n",
    "    def is_equivalent(self,rect):\n",
    "        if self.area()==rect.area():\n",
    "            return True\n",
    "        return False\n",
    "rect2=Rectangle(3,4)\n",
    "rect1=Rectangle(2,3)\n",
    "print(rect1.is_equivalent(rect2))\n"
   ]
  },
  {
   "cell_type": "code",
   "execution_count": 10,
   "metadata": {},
   "outputs": [],
   "source": [
    "import random\n",
    "class GuessTheNumber:\n",
    "    def __init__(self):\n",
    "        self.n=random.randint(1,100)\n",
    "        self.win=False\n",
    "    def guess(self,number):\n",
    "        if number== self.n:\n",
    "            self.win=True\n",
    "            print(\"bravo, hai vinto!\")\n",
    "        elif number > self.n:\n",
    "            print(\"troppo grande!\")\n",
    "        else:\n",
    "            print(\"troppo piccolo!\")\n",
    "    def play(self):\n",
    "        while not self.win:\n",
    "            number=int(input(\"prova a indovinare:\"))\n",
    "            self.guess(number)\n",
    "  "
   ]
  },
  {
   "cell_type": "code",
   "execution_count": 11,
   "metadata": {},
   "outputs": [
    {
     "name": "stdout",
     "output_type": "stream",
     "text": [
      "troppo grande!\n",
      "troppo piccolo!\n",
      "troppo piccolo!\n",
      "troppo piccolo!\n",
      "troppo grande!\n",
      "troppo piccolo!\n",
      "troppo grande!\n",
      "troppo grande!\n",
      "bravo, hai vinto!\n"
     ]
    }
   ],
   "source": [
    "game=GuessTheNumber()\n",
    "game.play()"
   ]
  }
 ],
 "metadata": {
  "kernelspec": {
   "display_name": "Python 3",
   "language": "python",
   "name": "python3"
  },
  "language_info": {
   "codemirror_mode": {
    "name": "ipython",
    "version": 3
   },
   "file_extension": ".py",
   "mimetype": "text/x-python",
   "name": "python",
   "nbconvert_exporter": "python",
   "pygments_lexer": "ipython3",
   "version": "3.12.1"
  }
 },
 "nbformat": 4,
 "nbformat_minor": 2
}
